{
 "cells": [
  {
   "cell_type": "code",
   "execution_count": 1,
   "id": "distinguished-thomas",
   "metadata": {},
   "outputs": [],
   "source": [
    "import sys\n",
    "import numpy as np\n",
    "\n",
    "import textwrap\n",
    "wrapper = textwrap.TextWrapper(width=70)\n",
    "\n",
    "import trax\n",
    "from trax import layers as tl\n",
    "from trax.fastmath import numpy as jnp\n",
    "\n",
    "# to print the entire np array\n",
    "np.set_printoptions(threshold=sys.maxsize)"
   ]
  },
  {
   "cell_type": "code",
   "execution_count": 3,
   "id": "reserved-foster",
   "metadata": {},
   "outputs": [],
   "source": [
    "\n",
    "# Get the data - download the dataset if no data_dir is specified.\n",
    "# so we have the data already in 'data/' for you\n",
    "\n",
    "# Importing CNN/DailyMail articles dataset\n",
    "train_stream_fnction = trax.data.TFDS('cnn_dailymail',\n",
    "                                 data_dir='news_data/',\n",
    "                                 keys=('article', 'highlights'),\n",
    "                                 train=True)\n",
    "\n",
    "# This should be much faster as the data is downloaded already.\n",
    "eval_stream_fnction = trax.data.TFDS('cnn_dailymail',\n",
    "                                data_dir='news_data/',\n",
    "                                keys=('article', 'highlights'),\n",
    "                                train=False)"
   ]
  },
  {
   "cell_type": "code",
   "execution_count": 4,
   "id": "adjustable-quilt",
   "metadata": {},
   "outputs": [],
   "source": [
    "# Now need create helper functions to tokenize and detokenize data. Tokenise converts a text sentence to its\n",
    "# corresponding token list (i.e. list of indices). Also converts words to subwords.\n",
    "# similarly we need to have detokenize function to reconvert the tokens to its sentence\n",
    "\n",
    "def tokenize(input_str,EOS=1):\n",
    "    \"\"\" convert input string to a feature dictionary\"\"\"\n",
    "#     trax.data.tokenize method takes streams and returns streams, we user iter to have one elment stream\n",
    "    input_sting=next(trax.data.tokenize(iter([input_str]),\n",
    "                                       vocab_dir='vocab_dir/',\n",
    "                                       vocab_file='summarize32.subword.subwords'))\n",
    "#     put EOS at the end of sentence\n",
    "    return list(input_string)+[EOS]\n",
    "\n",
    "def detokenize(input_integers):\n",
    "    \"\"\"convert input intergers to string\"\"\"\n",
    "    string_converted=trax.data.detokenize(input_integers,\n",
    "                                        vocab_dir='vocab_dir/',\n",
    "                                        vocab_file='summaize32k.subword.subwords')\n",
    "    \n",
    "    return wrapper.fill(string_converted)\n"
   ]
  },
  {
   "cell_type": "code",
   "execution_count": null,
   "id": "improved-starter",
   "metadata": {},
   "outputs": [],
   "source": []
  }
 ],
 "metadata": {
  "kernelspec": {
   "display_name": "Python 3",
   "language": "python",
   "name": "python3"
  },
  "language_info": {
   "codemirror_mode": {
    "name": "ipython",
    "version": 3
   },
   "file_extension": ".py",
   "mimetype": "text/x-python",
   "name": "python",
   "nbconvert_exporter": "python",
   "pygments_lexer": "ipython3",
   "version": "3.8.2"
  }
 },
 "nbformat": 4,
 "nbformat_minor": 5
}
